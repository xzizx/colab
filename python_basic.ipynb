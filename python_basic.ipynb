{
  "nbformat": 4,
  "nbformat_minor": 0,
  "metadata": {
    "colab": {
      "provenance": [],
      "collapsed_sections": [],
      "authorship_tag": "ABX9TyO5S3GkCZc6nqj5Hpwokjdg",
      "include_colab_link": true
    },
    "kernelspec": {
      "name": "python3",
      "display_name": "Python 3"
    },
    "language_info": {
      "name": "python"
    }
  },
  "cells": [
    {
      "cell_type": "markdown",
      "metadata": {
        "id": "view-in-github",
        "colab_type": "text"
      },
      "source": [
        "<a href=\"https://colab.research.google.com/github/xzizx/colab/blob/main/python_basic.ipynb\" target=\"_parent\"><img src=\"https://colab.research.google.com/assets/colab-badge.svg\" alt=\"Open In Colab\"/></a>"
      ]
    },
    {
      "cell_type": "code",
      "execution_count": 9,
      "metadata": {
        "colab": {
          "base_uri": "https://localhost:8080/"
        },
        "id": "qDfOoLtcx3Jd",
        "outputId": "0b4e9c28-6a3e-40da-e4f6-2efe380a014c"
      },
      "outputs": [
        {
          "output_type": "stream",
          "name": "stdout",
          "text": [
            "Hello World\n"
          ]
        }
      ],
      "source": [
        "print(\"Hello World\") \n",
        "# ctrl + / 는 주석 토글\n",
        "# ctrl + enter 치면 현재 셀실행\n",
        "# shift + enter 실행하고 다음셀로 넘어감\n",
        "# alt + enter 실행하고 다음셀을 만들고 넘어감"
      ]
    },
    {
      "cell_type": "markdown",
      "source": [
        "# 큰 제목\n",
        "## 그 다음으로 큰제목\n",
        "### **볼드**\n",
        "\n",
        "- 1\n",
        " - 1-1\n",
        "   - 1-1-1\n",
        "\n",
        ">ㅋㅋ\n",
        ">>ㅋㅋㅋ\n",
        "\n",
        "$y=2x$\n",
        "\n",
        "```python\n",
        "print(\"Hello World\") \n",
        "a=1\n",
        "b=2\n",
        "```\n",
        "[유튜브](https://www.youtube.com/watch?v=k27DwgJ2KkA&t=12s)\n",
        "\n",
        "\n"
      ],
      "metadata": {
        "id": "WxuhhKStAJRW"
      }
    },
    {
      "cell_type": "markdown",
      "source": [
        "## 파이썬은 계산기다!"
      ],
      "metadata": {
        "id": "Ejp1Z08eCLve"
      }
    },
    {
      "cell_type": "code",
      "source": [
        "1+1"
      ],
      "metadata": {
        "colab": {
          "base_uri": "https://localhost:8080/"
        },
        "id": "W8-QPFu6AWGG",
        "outputId": "0781f3f4-0ed4-4840-d523-e075d300da03"
      },
      "execution_count": 10,
      "outputs": [
        {
          "output_type": "execute_result",
          "data": {
            "text/plain": [
              "2"
            ]
          },
          "metadata": {},
          "execution_count": 10
        }
      ]
    },
    {
      "cell_type": "code",
      "source": [
        "3-5"
      ],
      "metadata": {
        "colab": {
          "base_uri": "https://localhost:8080/"
        },
        "id": "Y7pDMQ59CYKk",
        "outputId": "a6a838e7-200a-4954-d835-ef52513753b7"
      },
      "execution_count": 11,
      "outputs": [
        {
          "output_type": "execute_result",
          "data": {
            "text/plain": [
              "-2"
            ]
          },
          "metadata": {},
          "execution_count": 11
        }
      ]
    },
    {
      "cell_type": "code",
      "source": [
        "2*5"
      ],
      "metadata": {
        "colab": {
          "base_uri": "https://localhost:8080/"
        },
        "id": "HLOay3hWCaeR",
        "outputId": "14181a79-acc9-4ded-f2c2-d25a75dc1ea2"
      },
      "execution_count": 12,
      "outputs": [
        {
          "output_type": "execute_result",
          "data": {
            "text/plain": [
              "10"
            ]
          },
          "metadata": {},
          "execution_count": 12
        }
      ]
    },
    {
      "cell_type": "code",
      "source": [
        "4/2"
      ],
      "metadata": {
        "colab": {
          "base_uri": "https://localhost:8080/"
        },
        "id": "jlsPG-w_Cb0W",
        "outputId": "6bb3027d-7a6f-4214-8401-723911283bad"
      },
      "execution_count": 16,
      "outputs": [
        {
          "output_type": "execute_result",
          "data": {
            "text/plain": [
              "2.0"
            ]
          },
          "metadata": {},
          "execution_count": 16
        }
      ]
    },
    {
      "cell_type": "code",
      "source": [
        "4//2"
      ],
      "metadata": {
        "colab": {
          "base_uri": "https://localhost:8080/"
        },
        "id": "u-NJxjoJCtYK",
        "outputId": "4673cbde-51a7-4c82-88dc-88fa3a1ca201"
      },
      "execution_count": 17,
      "outputs": [
        {
          "output_type": "execute_result",
          "data": {
            "text/plain": [
              "2"
            ]
          },
          "metadata": {},
          "execution_count": 17
        }
      ]
    },
    {
      "cell_type": "code",
      "source": [
        "5//2 #나눌ㄹ때 몫을 나타냄"
      ],
      "metadata": {
        "colab": {
          "base_uri": "https://localhost:8080/"
        },
        "id": "-Xa_EvSnCulU",
        "outputId": "329e0a23-bbf4-4a6e-c982-04ec11d80b9f"
      },
      "execution_count": 19,
      "outputs": [
        {
          "output_type": "execute_result",
          "data": {
            "text/plain": [
              "2"
            ]
          },
          "metadata": {},
          "execution_count": 19
        }
      ]
    },
    {
      "cell_type": "code",
      "source": [
        "int(5/2)"
      ],
      "metadata": {
        "colab": {
          "base_uri": "https://localhost:8080/"
        },
        "id": "jzzyfZgxC5z6",
        "outputId": "0e255690-564e-4eba-c166-ca06e6188b77"
      },
      "execution_count": 20,
      "outputs": [
        {
          "output_type": "execute_result",
          "data": {
            "text/plain": [
              "2"
            ]
          },
          "metadata": {},
          "execution_count": 20
        }
      ]
    },
    {
      "cell_type": "code",
      "source": [
        "type(2.0)"
      ],
      "metadata": {
        "colab": {
          "base_uri": "https://localhost:8080/"
        },
        "id": "YGp-grtoCdIp",
        "outputId": "d7e914ce-ca54-4aad-ec83-815c1a9aa80b"
      },
      "execution_count": 14,
      "outputs": [
        {
          "output_type": "execute_result",
          "data": {
            "text/plain": [
              "float"
            ]
          },
          "metadata": {},
          "execution_count": 14
        }
      ]
    },
    {
      "cell_type": "code",
      "source": [
        "type(2)"
      ],
      "metadata": {
        "colab": {
          "base_uri": "https://localhost:8080/"
        },
        "id": "ae4Z9INgCgxj",
        "outputId": "954a4bea-b80a-4b94-9175-ba054d19345b"
      },
      "execution_count": 15,
      "outputs": [
        {
          "output_type": "execute_result",
          "data": {
            "text/plain": [
              "int"
            ]
          },
          "metadata": {},
          "execution_count": 15
        }
      ]
    },
    {
      "cell_type": "code",
      "source": [],
      "metadata": {
        "id": "V8wmOXXKCkdr"
      },
      "execution_count": null,
      "outputs": []
    }
  ]
}
{
  "nbformat": 4,
  "nbformat_minor": 0,
  "metadata": {
    "colab": {
      "provenance": [],
      "collapsed_sections": [],
      "authorship_tag": "ABX9TyMgqnj+mqeQQwTnX/Nothcd",
      "include_colab_link": true
    },
    "kernelspec": {
      "name": "python3",
      "display_name": "Python 3"
    },
    "language_info": {
      "name": "python"
    }
  },
  "cells": [
    {
      "cell_type": "markdown",
      "metadata": {
        "id": "view-in-github",
        "colab_type": "text"
      },
      "source": [
        "<a href=\"https://colab.research.google.com/github/xzizx/colab/blob/main/python_basic.ipynb\" target=\"_parent\"><img src=\"https://colab.research.google.com/assets/colab-badge.svg\" alt=\"Open In Colab\"/></a>"
      ]
    },
    {
      "cell_type": "code",
      "execution_count": 9,
      "metadata": {
        "colab": {
          "base_uri": "https://localhost:8080/"
        },
        "id": "qDfOoLtcx3Jd",
        "outputId": "0b4e9c28-6a3e-40da-e4f6-2efe380a014c"
      },
      "outputs": [
        {
          "output_type": "stream",
          "name": "stdout",
          "text": [
            "Hello World\n"
          ]
        }
      ],
      "source": [
        "print(\"Hello World\") \n",
        "# ctrl + / 는 주석 토글\n",
        "# ctrl + enter 치면 현재 셀실행\n",
        "# shift + enter 실행하고 다음셀로 넘어감\n",
        "# alt + enter 실행하고 다음셀을 만들고 넘어감"
      ]
    },
    {
      "cell_type": "markdown",
      "source": [
        "# 큰 제목\n",
        "## 그 다음으로 큰제목\n",
        "### **볼드**\n",
        "\n",
        "- 1\n",
        " - 1-1\n",
        "   - 1-1-1\n",
        "\n",
        ">ㅋㅋ\n",
        ">>ㅋㅋㅋ\n",
        "\n",
        "$y=2x$\n",
        "\n",
        "```python\n",
        "print(\"Hello World\") \n",
        "a=1\n",
        "b=2\n",
        "```\n",
        "[유튜브](https://www.youtube.com/watch?v=k27DwgJ2KkA&t=12s)\n",
        "\n",
        "\n"
      ],
      "metadata": {
        "id": "WxuhhKStAJRW"
      }
    },
    {
      "cell_type": "code",
      "source": [],
      "metadata": {
        "id": "W8-QPFu6AWGG"
      },
      "execution_count": null,
      "outputs": []
    }
  ]
}